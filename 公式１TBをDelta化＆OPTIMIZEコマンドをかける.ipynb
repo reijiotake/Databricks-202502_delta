{
 "cells": [
  {
   "cell_type": "code",
   "execution_count": 0,
   "metadata": {
    "application/vnd.databricks.v1+cell": {
     "cellMetadata": {
      "byteLimit": 2048000,
      "rowLimit": 10000
     },
     "inputWidgets": {},
     "nuid": "baaebba6-928b-4f08-859e-d7dfa7cd5866",
     "showTitle": false,
     "tableResultSettingsMap": {},
     "title": ""
    }
   },
   "outputs": [],
   "source": [
    "%python\n",
    "spark.conf.set(\n",
    "    \"your azure acount\",\n",
    "    \"your key\"\n",
    ")"
   ]
  },
  {
   "cell_type": "code",
   "execution_count": 0,
   "metadata": {
    "application/vnd.databricks.v1+cell": {
     "cellMetadata": {
      "byteLimit": 2048000,
      "rowLimit": 10000
     },
     "inputWidgets": {},
     "nuid": "3ef1e5a7-a0bb-4278-9c90-19fd34433005",
     "showTitle": false,
     "tableResultSettingsMap": {},
     "title": ""
    }
   },
   "outputs": [],
   "source": [
    "%python\n",
    "# Parquetファイルを読み込む\n",
    "df = spark.read.format(\"parquet\").load(\"abfss://datalake@adlsfabricperfomance.dfs.core.windows.net/raw/tpc-ds/source_files_001TB_parquet/catalog_returns\")\n",
    "\n",
    "# Deltaテーブルとして保存する\n",
    "df.write.format(\"delta\").mode(\"overwrite\").save(\"abfss://datalake@adlsfabricperfomance.dfs.core.windows.net/raw/tpc-ds/delta/catalog_returns_delta\")\n"
   ]
  },
  {
   "cell_type": "code",
   "execution_count": 0,
   "metadata": {
    "application/vnd.databricks.v1+cell": {
     "cellMetadata": {
      "byteLimit": 2048000,
      "rowLimit": 10000
     },
     "collapsed": true,
     "inputWidgets": {},
     "nuid": "0dacc6e5-f87c-4c52-a4ef-80750b076057",
     "showTitle": false,
     "tableResultSettingsMap": {},
     "title": ""
    }
   },
   "outputs": [],
   "source": [
    "SELECT * FROM delta.`abfss://datalake@adlsfabricperfomance.dfs.core.windows.net/raw/tpc-ds/delta/catalog_returns_delta`"
   ]
  },
  {
   "cell_type": "code",
   "execution_count": 0,
   "metadata": {
    "application/vnd.databricks.v1+cell": {
     "cellMetadata": {
      "byteLimit": 2048000,
      "rowLimit": 10000
     },
     "collapsed": true,
     "inputWidgets": {},
     "nuid": "c01bfe8b-72dc-4a84-8f5b-4f937904550f",
     "showTitle": false,
     "tableResultSettingsMap": {},
     "title": ""
    }
   },
   "outputs": [],
   "source": [
    "OPTIMIZE delta.`abfss://datalake@adlsfabricperfomance.dfs.core.windows.net/raw/tpc-ds/delta/catalog_returns_delta`"
   ]
  },
  {
   "cell_type": "code",
   "execution_count": 0,
   "metadata": {
    "application/vnd.databricks.v1+cell": {
     "cellMetadata": {
      "byteLimit": 2048000,
      "rowLimit": 10000
     },
     "inputWidgets": {},
     "nuid": "c5dbfc70-0e7f-45bf-991e-6ccb315db2e7",
     "showTitle": false,
     "tableResultSettingsMap": {},
     "title": ""
    }
   },
   "outputs": [],
   "source": [
    "-- Deltaテーブルのターゲットファイルサイズを512MBに設定\n",
    "ALTER TABLE delta.`abfss://datalake@adlsfabricperfomance.dfs.core.windows.net/raw/tpc-ds/delta/catalog_returns_delta`\n",
    "SET TBLPROPERTIES ('delta.targetFileSize' = '536870912');\n",
    "\n",
    "-- OPTIMIZEコマンドを実行してファイルサイズを調整\n",
    "OPTIMIZE delta.`abfss://datalake@adlsfabricperfomance.dfs.core.windows.net/raw/tpc-ds/delta/catalog_returns_delta`;\n"
   ]
  },
  {
   "cell_type": "markdown",
   "metadata": {
    "application/vnd.databricks.v1+cell": {
     "cellMetadata": {},
     "inputWidgets": {},
     "nuid": "fee1d4d5-4c7d-4dad-9b0e-b62ca4fd42da",
     "showTitle": false,
     "tableResultSettingsMap": {},
     "title": ""
    }
   },
   "source": [
    "catalog sales"
   ]
  },
  {
   "cell_type": "code",
   "execution_count": 0,
   "metadata": {
    "application/vnd.databricks.v1+cell": {
     "cellMetadata": {
      "byteLimit": 2048000,
      "rowLimit": 10000
     },
     "inputWidgets": {},
     "nuid": "db5ba9cf-6e6c-478e-ab1b-b9a78b94d9b5",
     "showTitle": false,
     "tableResultSettingsMap": {},
     "title": ""
    }
   },
   "outputs": [],
   "source": [
    "%python\n",
    "df = spark.read.format(\"parquet\").load(\"abfss://datalake@adlsfabricperfomance.dfs.core.windows.net/raw/tpc-ds/source_files_001TB_parquet/catalog_sales\")\n",
    "\n",
    "df.write.format(\"delta\").mode(\"overwrite\").save(\"abfss://datalake@adlsfabricperfomance.dfs.core.windows.net/raw/tpc-ds/delta/catalog_sales_delta\")"
   ]
  },
  {
   "cell_type": "code",
   "execution_count": 0,
   "metadata": {
    "application/vnd.databricks.v1+cell": {
     "cellMetadata": {
      "byteLimit": 2048000,
      "rowLimit": 10000
     },
     "inputWidgets": {},
     "nuid": "78fe92cf-90bc-403b-8fe5-bbebd6a9d845",
     "showTitle": false,
     "tableResultSettingsMap": {},
     "title": ""
    }
   },
   "outputs": [],
   "source": [
    "ALTER TABLE delta.`abfss://datalake@adlsfabricperfomance.dfs.core.windows.net/raw/tpc-ds/delta/catalog_sales_delta`\n",
    "SET TBLPROPERTIES ('delta.targetFileSize' = '536870912');\n",
    "\n",
    "OPTIMIZE delta.`abfss://datalake@adlsfabricperfomance.dfs.core.windows.net/raw/tpc-ds/delta/catalog_sales_delta`;"
   ]
  },
  {
   "cell_type": "code",
   "execution_count": 0,
   "metadata": {
    "application/vnd.databricks.v1+cell": {
     "cellMetadata": {
      "byteLimit": 2048000,
      "rowLimit": 10000
     },
     "inputWidgets": {},
     "nuid": "b772dbd5-23f7-4c6f-96e7-dc903abc8bd6",
     "showTitle": false,
     "tableResultSettingsMap": {},
     "title": ""
    }
   },
   "outputs": [],
   "source": [
    "SHOW TBLPROPERTIES delta.`abfss://datalake@adlsfabricperfomance.dfs.core.windows.net/raw/tpc-ds/delta/catalog_sales_delta`;\n"
   ]
  },
  {
   "cell_type": "code",
   "execution_count": 0,
   "metadata": {
    "application/vnd.databricks.v1+cell": {
     "cellMetadata": {
      "byteLimit": 2048000,
      "rowLimit": 10000
     },
     "inputWidgets": {},
     "nuid": "a91a24b0-284b-41f4-9db9-92a8db0ad397",
     "showTitle": false,
     "tableResultSettingsMap": {},
     "title": ""
    }
   },
   "outputs": [],
   "source": [
    "DESCRIBE EXTENDED delta.`abfss://datalake@adlsfabricperfomance.dfs.core.windows.net/raw/tpc-ds/delta/catalog_sales_delta`;\n"
   ]
  },
  {
   "cell_type": "code",
   "execution_count": 0,
   "metadata": {
    "application/vnd.databricks.v1+cell": {
     "cellMetadata": {},
     "inputWidgets": {},
     "nuid": "eb9be457-e386-4ebd-9247-ebe013643645",
     "showTitle": false,
     "tableResultSettingsMap": {},
     "title": ""
    }
   },
   "outputs": [],
   "source": []
  },
  {
   "cell_type": "code",
   "execution_count": 0,
   "metadata": {
    "application/vnd.databricks.v1+cell": {
     "cellMetadata": {
      "byteLimit": 2048000,
      "rowLimit": 10000
     },
     "inputWidgets": {},
     "nuid": "29f01014-6ea7-4f46-96f0-72aed4540dac",
     "showTitle": false,
     "tableResultSettingsMap": {},
     "title": ""
    }
   },
   "outputs": [],
   "source": [
    "%python\n",
    "# 必要なパッケージのインポート\n",
    "from pyspark.sql import SparkSession\n",
    "\n",
    "# Parquetファイルを読み込む\n",
    "df = spark.read.format(\"parquet\").load(\"abfss://datalake@adlsfabricperfomance.dfs.core.windows.net/raw/tpc-ds/source_files_001TB_parquet/customer\")\n",
    "\n",
    "# データを再分割して書き込み\n",
    "target_file_size_mib = 500  # 目標ファイルサイズ（MiB単位）\n",
    "\n",
    "# Calculate the average bytes per row\n",
    "total_size_bytes = df.rdd.map(lambda row: len(str(row))).sum()\n",
    "total_rows = df.count()\n",
    "avg_bytes_per_row = total_size_bytes / total_rows\n",
    "\n",
    "rows_per_file = int((target_file_size_mib * 1024 * 1024) / avg_bytes_per_row)\n",
    "\n",
    "df.repartition(rows_per_file).write \\\n",
    "  .format(\"parquet\") \\\n",
    "  .mode(\"overwrite\") \\\n",
    "  .save(\"abfss://datalake@adlsfabricperfomance.dfs.core.windows.net/raw/tpc-ds/source_files_001TB_parquet/customer\")"
   ]
  }
 ],
 "metadata": {
  "application/vnd.databricks.v1+notebook": {
   "computePreferences": null,
   "dashboards": [],
   "environmentMetadata": {
    "base_environment": "",
    "client": "2"
   },
   "language": "sql",
   "notebookMetadata": {
    "pythonIndentUnit": 4
   },
   "notebookName": "公式１TBをDelta化＆OPTIMIZEコマンドをかける",
   "widgets": {}
  },
  "language_info": {
   "name": "sql"
  }
 },
 "nbformat": 4,
 "nbformat_minor": 0
}
